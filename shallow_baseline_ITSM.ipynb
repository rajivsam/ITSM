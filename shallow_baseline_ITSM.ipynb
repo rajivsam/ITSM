{
  "nbformat": 4,
  "nbformat_minor": 0,
  "metadata": {
    "colab": {
      "name": "shallow_baseline_ITSM.ipynb",
      "provenance": [],
      "collapsed_sections": [],
      "include_colab_link": true
    },
    "kernelspec": {
      "name": "python3",
      "display_name": "Python 3"
    }
  },
  "cells": [
    {
      "cell_type": "markdown",
      "metadata": {
        "id": "view-in-github",
        "colab_type": "text"
      },
      "source": [
        "<a href=\"https://colab.research.google.com/github/rajivsam/ITSM/blob/master/shallow_baseline_ITSM.ipynb\" target=\"_parent\"><img src=\"https://colab.research.google.com/assets/colab-badge.svg\" alt=\"Open In Colab\"/></a>"
      ]
    },
    {
      "cell_type": "markdown",
      "metadata": {
        "id": "nUPZmUjwjbWn",
        "colab_type": "text"
      },
      "source": [
        "# A Shallow Baseline to learn ITSM Embeddings Based on SLA Violations"
      ]
    },
    {
      "cell_type": "markdown",
      "metadata": {
        "id": "Lt8DOuVzjR4D",
        "colab_type": "text"
      },
      "source": [
        "Install Required Packages"
      ]
    },
    {
      "cell_type": "markdown",
      "metadata": {
        "id": "H-EBQXmzjY1f",
        "colab_type": "text"
      },
      "source": [
        ""
      ]
    },
    {
      "cell_type": "code",
      "metadata": {
        "id": "XReWToFBgfBf",
        "colab_type": "code",
        "colab": {
          "base_uri": "https://localhost:8080/",
          "height": 635
        },
        "outputId": "b130d024-4aa9-44bb-bafb-8080665f21c5"
      },
      "source": [
        "!pip install pandas\n",
        "!pip install sklearn2"
      ],
      "execution_count": 2,
      "outputs": [
        {
          "output_type": "stream",
          "text": [
            "Requirement already satisfied: pandas in /usr/local/lib/python3.6/dist-packages (0.25.3)\n",
            "Requirement already satisfied: numpy>=1.13.3 in /usr/local/lib/python3.6/dist-packages (from pandas) (1.17.4)\n",
            "Requirement already satisfied: pytz>=2017.2 in /usr/local/lib/python3.6/dist-packages (from pandas) (2018.9)\n",
            "Requirement already satisfied: python-dateutil>=2.6.1 in /usr/local/lib/python3.6/dist-packages (from pandas) (2.6.1)\n",
            "Requirement already satisfied: six>=1.5 in /usr/local/lib/python3.6/dist-packages (from python-dateutil>=2.6.1->pandas) (1.12.0)\n",
            "Collecting sklearn2\n",
            "  Downloading https://files.pythonhosted.org/packages/4d/b3/1d0d7e771b96212fa19013726b123a209e1dc109e2802bd99b2576bf74ed/sklearn2-0.0.13-py2.py3-none-any.whl\n",
            "Collecting category-encoders\n",
            "\u001b[?25l  Downloading https://files.pythonhosted.org/packages/a0/52/c54191ad3782de633ea3d6ee3bb2837bda0cf3bc97644bb6375cf14150a0/category_encoders-2.1.0-py2.py3-none-any.whl (100kB)\n",
            "\u001b[K     |████████████████████████████████| 102kB 5.0MB/s \n",
            "\u001b[?25hRequirement already satisfied: matplotlib>=1.5.1 in /usr/local/lib/python3.6/dist-packages (from sklearn2) (3.1.2)\n",
            "Requirement already satisfied: patsy in /usr/local/lib/python3.6/dist-packages (from sklearn2) (0.5.1)\n",
            "Requirement already satisfied: pydot in /usr/local/lib/python3.6/dist-packages (from sklearn2) (1.3.0)\n",
            "Requirement already satisfied: pytest in /usr/local/lib/python3.6/dist-packages (from sklearn2) (3.6.4)\n",
            "Requirement already satisfied: pandas>=0.17.1 in /usr/local/lib/python3.6/dist-packages (from sklearn2) (0.25.3)\n",
            "Requirement already satisfied: scikit-learn>=0.18 in /usr/local/lib/python3.6/dist-packages (from sklearn2) (0.21.3)\n",
            "Requirement already satisfied: statsmodels in /usr/local/lib/python3.6/dist-packages (from sklearn2) (0.10.2)\n",
            "Requirement already satisfied: numpy>=1.11.3 in /usr/local/lib/python3.6/dist-packages (from category-encoders->sklearn2) (1.17.4)\n",
            "Requirement already satisfied: scipy>=0.19.0 in /usr/local/lib/python3.6/dist-packages (from category-encoders->sklearn2) (1.3.3)\n",
            "Requirement already satisfied: pyparsing!=2.0.4,!=2.1.2,!=2.1.6,>=2.0.1 in /usr/local/lib/python3.6/dist-packages (from matplotlib>=1.5.1->sklearn2) (2.4.5)\n",
            "Requirement already satisfied: cycler>=0.10 in /usr/local/lib/python3.6/dist-packages (from matplotlib>=1.5.1->sklearn2) (0.10.0)\n",
            "Requirement already satisfied: kiwisolver>=1.0.1 in /usr/local/lib/python3.6/dist-packages (from matplotlib>=1.5.1->sklearn2) (1.1.0)\n",
            "Requirement already satisfied: python-dateutil>=2.1 in /usr/local/lib/python3.6/dist-packages (from matplotlib>=1.5.1->sklearn2) (2.6.1)\n",
            "Requirement already satisfied: six in /usr/local/lib/python3.6/dist-packages (from patsy->sklearn2) (1.12.0)\n",
            "Requirement already satisfied: pluggy<0.8,>=0.5 in /usr/local/lib/python3.6/dist-packages (from pytest->sklearn2) (0.7.1)\n",
            "Requirement already satisfied: more-itertools>=4.0.0 in /usr/local/lib/python3.6/dist-packages (from pytest->sklearn2) (8.0.2)\n",
            "Requirement already satisfied: setuptools in /usr/local/lib/python3.6/dist-packages (from pytest->sklearn2) (42.0.2)\n",
            "Requirement already satisfied: atomicwrites>=1.0 in /usr/local/lib/python3.6/dist-packages (from pytest->sklearn2) (1.3.0)\n",
            "Requirement already satisfied: py>=1.5.0 in /usr/local/lib/python3.6/dist-packages (from pytest->sklearn2) (1.8.0)\n",
            "Requirement already satisfied: attrs>=17.4.0 in /usr/local/lib/python3.6/dist-packages (from pytest->sklearn2) (19.3.0)\n",
            "Requirement already satisfied: pytz>=2017.2 in /usr/local/lib/python3.6/dist-packages (from pandas>=0.17.1->sklearn2) (2018.9)\n",
            "Requirement already satisfied: joblib>=0.11 in /usr/local/lib/python3.6/dist-packages (from scikit-learn>=0.18->sklearn2) (0.14.1)\n",
            "Installing collected packages: category-encoders, sklearn2\n",
            "Successfully installed category-encoders-2.1.0 sklearn2-0.0.13\n"
          ],
          "name": "stdout"
        }
      ]
    },
    {
      "cell_type": "markdown",
      "metadata": {
        "id": "Cw6GIzprjNDQ",
        "colab_type": "text"
      },
      "source": [
        "Read the datafile from github"
      ]
    },
    {
      "cell_type": "code",
      "metadata": {
        "id": "tyblsgLyh24D",
        "colab_type": "code",
        "colab": {}
      },
      "source": [
        "import pandas as pd\n",
        "url = 'https://raw.githubusercontent.com/rajivsam/ITSM/master/pp_incident_event_log.csv'\n",
        "df = pd.read_csv(url)"
      ],
      "execution_count": 0,
      "outputs": []
    },
    {
      "cell_type": "markdown",
      "metadata": {
        "id": "LFKsJYvWj_xN",
        "colab_type": "text"
      },
      "source": [
        "List the datatypes in the dataset"
      ]
    },
    {
      "cell_type": "code",
      "metadata": {
        "id": "Smw7_wVNiUyJ",
        "colab_type": "code",
        "colab": {
          "base_uri": "https://localhost:8080/",
          "height": 668
        },
        "outputId": "bed9a6d1-1d76-4c15-aa9f-53651af7811b"
      },
      "source": [
        "df.dtypes"
      ],
      "execution_count": 20,
      "outputs": [
        {
          "output_type": "execute_result",
          "data": {
            "text/plain": [
              "number                     object\n",
              "incident_state             object\n",
              "active                       bool\n",
              "reassignment_count          int64\n",
              "reopen_count                int64\n",
              "sys_mod_count               int64\n",
              "made_sla                     bool\n",
              "caller_id                  object\n",
              "opened_by                  object\n",
              "opened_at                  object\n",
              "sys_created_by             object\n",
              "sys_created_at             object\n",
              "sys_updated_by             object\n",
              "sys_updated_at             object\n",
              "contact_type               object\n",
              "location                   object\n",
              "category                   object\n",
              "subcategory                object\n",
              "u_symptom                  object\n",
              "cmdb_ci                    object\n",
              "impact                     object\n",
              "urgency                    object\n",
              "priority                   object\n",
              "assignment_group           object\n",
              "assigned_to                object\n",
              "knowledge                    bool\n",
              "u_priority_confirmation      bool\n",
              "notify                     object\n",
              "problem_id                 object\n",
              "rfc                        object\n",
              "vendor                     object\n",
              "caused_by                  object\n",
              "closed_code                object\n",
              "resolved_by                object\n",
              "resolved_at                object\n",
              "closed_at                  object\n",
              "dtype: object"
            ]
          },
          "metadata": {
            "tags": []
          },
          "execution_count": 20
        }
      ]
    },
    {
      "cell_type": "markdown",
      "metadata": {
        "id": "vbUU1BoQkN-9",
        "colab_type": "text"
      },
      "source": [
        "\n",
        "\n",
        "1.   Isolate the categorical variables\n",
        "2.   Remove the timestamp variables and record ID variables. ID variable has high branching (one for each record) and time stamps are for record keeping rather than attributes.\n",
        "\n",
        "\n"
      ]
    },
    {
      "cell_type": "code",
      "metadata": {
        "id": "d9j3GlqvjIr7",
        "colab_type": "code",
        "colab": {}
      },
      "source": [
        "attributes = df.columns.tolist()\n",
        "remove = [ 'made_sla', 'sys_mod_count', 'reopen_count', 'reassignment_count', 'number', 'sys_updated_at',\\\n",
        "          'opened_at', 'resolved_at','sys_created_at', 'caller_id', 'closed_at', 'notify', 'sys_updated_by',\\\n",
        "          'sys_created_by' ]\n",
        "keep = list(set(attributes) - set(remove))\n",
        "df_cat_vars = df[keep]"
      ],
      "execution_count": 0,
      "outputs": []
    },
    {
      "cell_type": "markdown",
      "metadata": {
        "id": "UMQH-u6OlDxb",
        "colab_type": "text"
      },
      "source": [
        "Determine the number of categorical values for each variable"
      ]
    },
    {
      "cell_type": "code",
      "metadata": {
        "id": "qcEJOV6fk7Rv",
        "colab_type": "code",
        "colab": {
          "base_uri": "https://localhost:8080/",
          "height": 404
        },
        "outputId": "11ba82b5-8ced-45d6-d980-89fb22980cfe"
      },
      "source": [
        "cols = df_cat_vars.columns.tolist()\n",
        "for c in cols:\n",
        "    print(\"Num unique vals for category \" + str(c) + \" = \" + str(df_cat_vars[c].nunique()))\n",
        "    \n"
      ],
      "execution_count": 22,
      "outputs": [
        {
          "output_type": "stream",
          "text": [
            "Num unique vals for category rfc = 175\n",
            "Num unique vals for category vendor = 3\n",
            "Num unique vals for category caused_by = 4\n",
            "Num unique vals for category incident_state = 1\n",
            "Num unique vals for category priority = 4\n",
            "Num unique vals for category impact = 3\n",
            "Num unique vals for category u_symptom = 398\n",
            "Num unique vals for category closed_code = 18\n",
            "Num unique vals for category problem_id = 245\n",
            "Num unique vals for category urgency = 3\n",
            "Num unique vals for category knowledge = 2\n",
            "Num unique vals for category category = 53\n",
            "Num unique vals for category location = 225\n",
            "Num unique vals for category cmdb_ci = 48\n",
            "Num unique vals for category assigned_to = 221\n",
            "Num unique vals for category resolved_by = 217\n",
            "Num unique vals for category assignment_group = 71\n",
            "Num unique vals for category active = 1\n",
            "Num unique vals for category subcategory = 246\n",
            "Num unique vals for category contact_type = 5\n",
            "Num unique vals for category opened_by = 208\n",
            "Num unique vals for category u_priority_confirmation = 2\n"
          ],
          "name": "stdout"
        }
      ]
    },
    {
      "cell_type": "markdown",
      "metadata": {
        "id": "pK4NJBMalT6I",
        "colab_type": "text"
      },
      "source": [
        "Recode the unknown value indicator '?' with \"UNKNOWN\""
      ]
    },
    {
      "cell_type": "code",
      "metadata": {
        "id": "r8kYZW-GlLeq",
        "colab_type": "code",
        "colab": {}
      },
      "source": [
        "df_cat_vars = df_cat_vars.replace(to_replace = '?', value = 'UNKNOWN')"
      ],
      "execution_count": 0,
      "outputs": []
    },
    {
      "cell_type": "markdown",
      "metadata": {
        "id": "h47P1Q0blqRu",
        "colab_type": "text"
      },
      "source": [
        "One hot encode the categorical variables\n"
      ]
    },
    {
      "cell_type": "code",
      "metadata": {
        "id": "bOlsyGHPlmqP",
        "colab_type": "code",
        "colab": {}
      },
      "source": [
        "df_recoded = pd.get_dummies(df_cat_vars)"
      ],
      "execution_count": 0,
      "outputs": []
    },
    {
      "cell_type": "markdown",
      "metadata": {
        "id": "Ii1L-3zUl85X",
        "colab_type": "text"
      },
      "source": [
        "Examine target variable imbalance"
      ]
    },
    {
      "cell_type": "code",
      "metadata": {
        "id": "cV7rKnHil29Z",
        "colab_type": "code",
        "colab": {
          "base_uri": "https://localhost:8080/",
          "height": 70
        },
        "outputId": "dd34fd3d-77e4-488e-a377-70140b3ca58c"
      },
      "source": [
        "# recode made sla\n",
        "df['made_sla'].value_counts()"
      ],
      "execution_count": 27,
      "outputs": [
        {
          "output_type": "execute_result",
          "data": {
            "text/plain": [
              "True     15803\n",
              "False     9115\n",
              "Name: made_sla, dtype: int64"
            ]
          },
          "metadata": {
            "tags": []
          },
          "execution_count": 27
        }
      ]
    },
    {
      "cell_type": "markdown",
      "metadata": {
        "id": "3rij5g9bnj0b",
        "colab_type": "text"
      },
      "source": [
        "Create the dataset for learning"
      ]
    },
    {
      "cell_type": "code",
      "metadata": {
        "id": "y_5V3ST5nFbn",
        "colab_type": "code",
        "colab": {}
      },
      "source": [
        "from_old = ['sys_mod_count', 'made_sla']\n",
        "df_from_old = df[from_old]\n",
        "dfc = pd.concat([df_recoded, df_from_old], axis = 1)"
      ],
      "execution_count": 0,
      "outputs": []
    },
    {
      "cell_type": "markdown",
      "metadata": {
        "id": "pL4htOBtn8sO",
        "colab_type": "text"
      },
      "source": [
        "Create a baseline model using Stochastic Gradient Descent on a Linear Model with L1 penalty and log loss.\n",
        " \n",
        "Note: The L1 penalty will drop the features that have low impact"
      ]
    },
    {
      "cell_type": "code",
      "metadata": {
        "id": "WU0PRoGKnsDE",
        "colab_type": "code",
        "colab": {
          "base_uri": "https://localhost:8080/",
          "height": 122
        },
        "outputId": "ffb0e9c8-f4b3-4d25-de5e-bfaf8a34aec5"
      },
      "source": [
        "from sklearn.linear_model import SGDClassifier\n",
        "from sklearn.model_selection import train_test_split\n",
        "preds = dfc.columns.tolist()\n",
        "preds.remove('made_sla')\n",
        "\n",
        "X = dfc[preds]\n",
        "y = dfc['made_sla']\n",
        "X_train, X_test, y_train, y_test = train_test_split(X, y, test_size = 0.2, random_state = 42)\n",
        "clf = SGDClassifier(loss=\"log\", penalty=\"l1\", max_iter=500)\n",
        "clf.fit(X_train, y_train)"
      ],
      "execution_count": 29,
      "outputs": [
        {
          "output_type": "execute_result",
          "data": {
            "text/plain": [
              "SGDClassifier(alpha=0.0001, average=False, class_weight=None,\n",
              "              early_stopping=False, epsilon=0.1, eta0=0.0, fit_intercept=True,\n",
              "              l1_ratio=0.15, learning_rate='optimal', loss='log', max_iter=500,\n",
              "              n_iter_no_change=5, n_jobs=None, penalty='l1', power_t=0.5,\n",
              "              random_state=None, shuffle=True, tol=0.001,\n",
              "              validation_fraction=0.1, verbose=0, warm_start=False)"
            ]
          },
          "metadata": {
            "tags": []
          },
          "execution_count": 29
        }
      ]
    },
    {
      "cell_type": "markdown",
      "metadata": {
        "id": "s4JAv5nioj-2",
        "colab_type": "text"
      },
      "source": [
        "Examine the test score accuracy. This score provides the following indications\n",
        "\n",
        "\n",
        "1.   Dataset quality \n",
        "2.   Feature quality for the learning task\n",
        "3.   A baseline level of accuracy for the learning task\n",
        "4.   The features that are important or relevant to the learning task\n",
        "\n",
        "\n"
      ]
    },
    {
      "cell_type": "code",
      "metadata": {
        "id": "tfRIArPxoiOs",
        "colab_type": "code",
        "colab": {
          "base_uri": "https://localhost:8080/",
          "height": 34
        },
        "outputId": "f5dc70a1-5e1d-4cc1-8a70-0050a373f88d"
      },
      "source": [
        "from sklearn.metrics import accuracy_score\n",
        "ypred_test = clf.predict(X_test)\n",
        "accuracy_score(y_test, ypred_test)"
      ],
      "execution_count": 30,
      "outputs": [
        {
          "output_type": "execute_result",
          "data": {
            "text/plain": [
              "0.8683788121990369"
            ]
          },
          "metadata": {
            "tags": []
          },
          "execution_count": 30
        }
      ]
    },
    {
      "cell_type": "markdown",
      "metadata": {
        "id": "sbzOSN-qwwso",
        "colab_type": "text"
      },
      "source": [
        "Extract the top 50 features from the model to see what features are relevant to the problem"
      ]
    },
    {
      "cell_type": "code",
      "metadata": {
        "id": "NQfZxb_1oi7L",
        "colab_type": "code",
        "colab": {
          "base_uri": "https://localhost:8080/",
          "height": 897
        },
        "outputId": "f8937727-582e-44b3-b533-f76eddf143a9"
      },
      "source": [
        "from sklearn.feature_selection import SelectFromModel\n",
        "model = SelectFromModel(clf, prefit=True, max_features = 50)\n",
        "attribs = dfc.columns.tolist()\n",
        "attribs.remove('made_sla')\n",
        "feature_idx = model.get_support()\n",
        "dfc[attribs].columns[feature_idx].tolist()"
      ],
      "execution_count": 40,
      "outputs": [
        {
          "output_type": "execute_result",
          "data": {
            "text/plain": [
              "['vendor_UNKNOWN',\n",
              " 'caused_by_UNKNOWN',\n",
              " 'incident_state_Closed',\n",
              " 'priority_1 - Critical',\n",
              " 'priority_2 - High',\n",
              " 'priority_3 - Moderate',\n",
              " 'priority_4 - Low',\n",
              " 'impact_1 - High',\n",
              " 'impact_2 - Medium',\n",
              " 'impact_3 - Low',\n",
              " 'u_symptom_Symptom 101',\n",
              " 'u_symptom_Symptom 207',\n",
              " 'u_symptom_Symptom 311',\n",
              " 'u_symptom_Symptom 607',\n",
              " 'problem_id_UNKNOWN',\n",
              " 'urgency_1 - High',\n",
              " 'urgency_2 - Medium',\n",
              " 'urgency_3 - Low',\n",
              " 'cmdb_ci_UNKNOWN',\n",
              " 'assigned_to_Resolver 132',\n",
              " 'assigned_to_Resolver 136',\n",
              " 'assigned_to_Resolver 138',\n",
              " 'assigned_to_Resolver 219',\n",
              " 'assigned_to_Resolver 224',\n",
              " 'assigned_to_Resolver 26',\n",
              " 'assigned_to_Resolver 39',\n",
              " 'resolved_by_Resolved by 118',\n",
              " 'resolved_by_Resolved by 122',\n",
              " 'resolved_by_Resolved by 135',\n",
              " 'resolved_by_Resolved by 171',\n",
              " 'resolved_by_Resolved by 181',\n",
              " 'resolved_by_Resolved by 184',\n",
              " 'resolved_by_Resolved by 200',\n",
              " 'resolved_by_Resolved by 208',\n",
              " 'resolved_by_Resolved by 24',\n",
              " 'assignment_group_Group 14',\n",
              " 'assignment_group_Group 20',\n",
              " 'assignment_group_Group 23',\n",
              " 'assignment_group_Group 24',\n",
              " 'assignment_group_Group 60',\n",
              " 'assignment_group_Group 69',\n",
              " 'assignment_group_Group 75',\n",
              " 'subcategory_Subcategory 102',\n",
              " 'subcategory_Subcategory 194',\n",
              " 'opened_by_Opened by  163',\n",
              " 'opened_by_Opened by  267',\n",
              " 'opened_by_Opened by  320',\n",
              " 'opened_by_Opened by  381',\n",
              " 'opened_by_Opened by  463',\n",
              " 'opened_by_Opened by  503']"
            ]
          },
          "metadata": {
            "tags": []
          },
          "execution_count": 40
        }
      ]
    },
    {
      "cell_type": "code",
      "metadata": {
        "id": "4AklR5DZpQFd",
        "colab_type": "code",
        "colab": {}
      },
      "source": [
        ""
      ],
      "execution_count": 0,
      "outputs": []
    }
  ]
}